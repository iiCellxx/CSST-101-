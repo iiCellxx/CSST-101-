{
  "nbformat": 4,
  "nbformat_minor": 0,
  "metadata": {
    "colab": {
      "provenance": [],
      "authorship_tag": "ABX9TyNAz20LMSKH3bKmK6LfxTZV",
      "include_colab_link": true
    },
    "kernelspec": {
      "name": "python3",
      "display_name": "Python 3"
    },
    "language_info": {
      "name": "python"
    }
  },
  "cells": [
    {
      "cell_type": "markdown",
      "metadata": {
        "id": "view-in-github",
        "colab_type": "text"
      },
      "source": [
        "<a href=\"https://colab.research.google.com/github/iiCellxx/CSST-101-ALMARIO/blob/main/LSTM_Practice_Chatbot.ipynb\" target=\"_parent\"><img src=\"https://colab.research.google.com/assets/colab-badge.svg\" alt=\"Open In Colab\"/></a>"
      ]
    },
    {
      "cell_type": "code",
      "source": [
        "!pip install tensorflow\n"
      ],
      "metadata": {
        "collapsed": true,
        "colab": {
          "base_uri": "https://localhost:8080/"
        },
        "id": "ZG7jPby_0phh",
        "outputId": "e1e3d19f-4287-4915-98a4-7330ba0eb659"
      },
      "execution_count": 1,
      "outputs": [
        {
          "output_type": "stream",
          "name": "stdout",
          "text": [
            "Requirement already satisfied: tensorflow in /usr/local/lib/python3.10/dist-packages (2.17.1)\n",
            "Requirement already satisfied: absl-py>=1.0.0 in /usr/local/lib/python3.10/dist-packages (from tensorflow) (1.4.0)\n",
            "Requirement already satisfied: astunparse>=1.6.0 in /usr/local/lib/python3.10/dist-packages (from tensorflow) (1.6.3)\n",
            "Requirement already satisfied: flatbuffers>=24.3.25 in /usr/local/lib/python3.10/dist-packages (from tensorflow) (24.3.25)\n",
            "Requirement already satisfied: gast!=0.5.0,!=0.5.1,!=0.5.2,>=0.2.1 in /usr/local/lib/python3.10/dist-packages (from tensorflow) (0.6.0)\n",
            "Requirement already satisfied: google-pasta>=0.1.1 in /usr/local/lib/python3.10/dist-packages (from tensorflow) (0.2.0)\n",
            "Requirement already satisfied: h5py>=3.10.0 in /usr/local/lib/python3.10/dist-packages (from tensorflow) (3.12.1)\n",
            "Requirement already satisfied: libclang>=13.0.0 in /usr/local/lib/python3.10/dist-packages (from tensorflow) (18.1.1)\n",
            "Requirement already satisfied: ml-dtypes<0.5.0,>=0.3.1 in /usr/local/lib/python3.10/dist-packages (from tensorflow) (0.4.1)\n",
            "Requirement already satisfied: opt-einsum>=2.3.2 in /usr/local/lib/python3.10/dist-packages (from tensorflow) (3.4.0)\n",
            "Requirement already satisfied: packaging in /usr/local/lib/python3.10/dist-packages (from tensorflow) (24.2)\n",
            "Requirement already satisfied: protobuf!=4.21.0,!=4.21.1,!=4.21.2,!=4.21.3,!=4.21.4,!=4.21.5,<5.0.0dev,>=3.20.3 in /usr/local/lib/python3.10/dist-packages (from tensorflow) (4.25.5)\n",
            "Requirement already satisfied: requests<3,>=2.21.0 in /usr/local/lib/python3.10/dist-packages (from tensorflow) (2.32.3)\n",
            "Requirement already satisfied: setuptools in /usr/local/lib/python3.10/dist-packages (from tensorflow) (75.1.0)\n",
            "Requirement already satisfied: six>=1.12.0 in /usr/local/lib/python3.10/dist-packages (from tensorflow) (1.16.0)\n",
            "Requirement already satisfied: termcolor>=1.1.0 in /usr/local/lib/python3.10/dist-packages (from tensorflow) (2.5.0)\n",
            "Requirement already satisfied: typing-extensions>=3.6.6 in /usr/local/lib/python3.10/dist-packages (from tensorflow) (4.12.2)\n",
            "Requirement already satisfied: wrapt>=1.11.0 in /usr/local/lib/python3.10/dist-packages (from tensorflow) (1.16.0)\n",
            "Requirement already satisfied: grpcio<2.0,>=1.24.3 in /usr/local/lib/python3.10/dist-packages (from tensorflow) (1.68.0)\n",
            "Requirement already satisfied: tensorboard<2.18,>=2.17 in /usr/local/lib/python3.10/dist-packages (from tensorflow) (2.17.1)\n",
            "Requirement already satisfied: keras>=3.2.0 in /usr/local/lib/python3.10/dist-packages (from tensorflow) (3.5.0)\n",
            "Requirement already satisfied: tensorflow-io-gcs-filesystem>=0.23.1 in /usr/local/lib/python3.10/dist-packages (from tensorflow) (0.37.1)\n",
            "Requirement already satisfied: numpy<2.0.0,>=1.23.5 in /usr/local/lib/python3.10/dist-packages (from tensorflow) (1.26.4)\n",
            "Requirement already satisfied: wheel<1.0,>=0.23.0 in /usr/local/lib/python3.10/dist-packages (from astunparse>=1.6.0->tensorflow) (0.45.0)\n",
            "Requirement already satisfied: rich in /usr/local/lib/python3.10/dist-packages (from keras>=3.2.0->tensorflow) (13.9.4)\n",
            "Requirement already satisfied: namex in /usr/local/lib/python3.10/dist-packages (from keras>=3.2.0->tensorflow) (0.0.8)\n",
            "Requirement already satisfied: optree in /usr/local/lib/python3.10/dist-packages (from keras>=3.2.0->tensorflow) (0.13.1)\n",
            "Requirement already satisfied: charset-normalizer<4,>=2 in /usr/local/lib/python3.10/dist-packages (from requests<3,>=2.21.0->tensorflow) (3.4.0)\n",
            "Requirement already satisfied: idna<4,>=2.5 in /usr/local/lib/python3.10/dist-packages (from requests<3,>=2.21.0->tensorflow) (3.10)\n",
            "Requirement already satisfied: urllib3<3,>=1.21.1 in /usr/local/lib/python3.10/dist-packages (from requests<3,>=2.21.0->tensorflow) (2.2.3)\n",
            "Requirement already satisfied: certifi>=2017.4.17 in /usr/local/lib/python3.10/dist-packages (from requests<3,>=2.21.0->tensorflow) (2024.8.30)\n",
            "Requirement already satisfied: markdown>=2.6.8 in /usr/local/lib/python3.10/dist-packages (from tensorboard<2.18,>=2.17->tensorflow) (3.7)\n",
            "Requirement already satisfied: tensorboard-data-server<0.8.0,>=0.7.0 in /usr/local/lib/python3.10/dist-packages (from tensorboard<2.18,>=2.17->tensorflow) (0.7.2)\n",
            "Requirement already satisfied: werkzeug>=1.0.1 in /usr/local/lib/python3.10/dist-packages (from tensorboard<2.18,>=2.17->tensorflow) (3.1.3)\n",
            "Requirement already satisfied: MarkupSafe>=2.1.1 in /usr/local/lib/python3.10/dist-packages (from werkzeug>=1.0.1->tensorboard<2.18,>=2.17->tensorflow) (3.0.2)\n",
            "Requirement already satisfied: markdown-it-py>=2.2.0 in /usr/local/lib/python3.10/dist-packages (from rich->keras>=3.2.0->tensorflow) (3.0.0)\n",
            "Requirement already satisfied: pygments<3.0.0,>=2.13.0 in /usr/local/lib/python3.10/dist-packages (from rich->keras>=3.2.0->tensorflow) (2.18.0)\n",
            "Requirement already satisfied: mdurl~=0.1 in /usr/local/lib/python3.10/dist-packages (from markdown-it-py>=2.2.0->rich->keras>=3.2.0->tensorflow) (0.1.2)\n"
          ]
        }
      ]
    },
    {
      "cell_type": "code",
      "source": [
        "from google.colab import drive\n",
        "drive.mount('/content/drive')"
      ],
      "metadata": {
        "id": "2ttjNQPXKQ4u",
        "outputId": "e245eafb-fd80-4da4-9046-1d1dbf94602b",
        "colab": {
          "base_uri": "https://localhost:8080/"
        }
      },
      "execution_count": 2,
      "outputs": [
        {
          "output_type": "stream",
          "name": "stdout",
          "text": [
            "Mounted at /content/drive\n"
          ]
        }
      ]
    },
    {
      "cell_type": "code",
      "source": [
        "import pandas as pd\n",
        "from tensorflow.keras.preprocessing.text import Tokenizer\n",
        "from tensorflow.keras.preprocessing.sequence import pad_sequences\n",
        "from sklearn.model_selection import train_test_split"
      ],
      "metadata": {
        "id": "4gPtWUx1KmoP"
      },
      "execution_count": 3,
      "outputs": []
    },
    {
      "cell_type": "code",
      "source": [
        "# List of Excel file paths\n",
        "excel_files = [\n",
        "    '/content/drive/MyDrive/rotcChatbot/ROTC Knowledge Excel Files/Military-Discipline-Customs-and-Courtesy.xlsx',\n",
        "    '/content/drive/MyDrive/rotcChatbot/ROTC Knowledge Excel Files/Military-Justice-System.xlsx',\n",
        "    '/content/drive/MyDrive/rotcChatbot/ROTC Knowledge Excel Files/Military-Values-Ethics-and-Professionalism.xlsx',\n",
        "    '/content/drive/MyDrive/rotcChatbot/ROTC Knowledge Excel Files/MilitaryLeadership.xlsx',\n",
        "    '/content/drive/MyDrive/rotcChatbot/ROTC Knowledge Excel Files/Philippine Military History.xlsx',\n",
        "    '/content/drive/MyDrive/rotcChatbot/ROTC Knowledge Excel Files/Threats-To-National-Security.xlsx'\n",
        "]\n",
        "\n",
        "# Combine all Excel files into a single JSON file\n",
        "all_data = []\n",
        "for file in excel_files:\n",
        "    df = pd.read_excel(file)\n",
        "    all_data.append(df)\n",
        "\n",
        "merged_data = pd.concat(all_data, ignore_index=True)\n",
        "json_file = '/content/drive/MyDrive/rotcChatbot/rotc_data.json'\n",
        "merged_data.to_json(json_file, orient=\"records\", indent=4)\n",
        "print(f\"Excel files successfully converted to JSON and saved as {json_file}\")\n"
      ],
      "metadata": {
        "id": "7HQfr5E2KfCl",
        "outputId": "faf559fb-9d43-43fe-f919-83d6e94e0fcd",
        "colab": {
          "base_uri": "https://localhost:8080/"
        }
      },
      "execution_count": 4,
      "outputs": [
        {
          "output_type": "stream",
          "name": "stdout",
          "text": [
            "Excel files successfully converted to JSON and saved as /content/drive/MyDrive/rotcChatbot/rotc_data.json\n"
          ]
        }
      ]
    },
    {
      "cell_type": "code",
      "source": [
        "import nltk\n",
        "from tensorflow.keras.preprocessing.text import Tokenizer\n",
        "from tensorflow.keras.preprocessing.sequence import pad_sequences\n",
        "import numpy as np\n",
        "\n",
        "# Load the JSON file\n",
        "combined_df = pd.read_json(json_file)\n",
        "\n",
        "# Ensure the required columns are present\n",
        "required_columns = ['Tags', 'Pattern', 'Response', 'Context']\n",
        "if not all(col in combined_df.columns for col in required_columns):\n",
        "    print(f\"Error: JSON file must include these columns: {required_columns}\")\n",
        "else:\n",
        "    print(f\"Loaded {len(combined_df)} entries with Tags, Pattern, Response, and Context.\")\n",
        "\n",
        "# Download NLTK punkt tokenizer\n",
        "nltk.download('punkt')\n",
        "\n",
        "# Combine 'tags' and 'patterns' as the input and 'responses' with 'context' as the output\n",
        "combined_df['input_text'] = combined_df['Tags'] + \": \" + combined_df['Pattern']\n",
        "combined_df['output_text'] = combined_df['Response'] + \" \" + combined_df['Context']\n",
        "\n",
        "# Tokenize and pad the input text\n",
        "tokenizer = Tokenizer(oov_token=\"<OOV>\")\n",
        "tokenizer.fit_on_texts(combined_df['input_text'])\n",
        "\n",
        "# Convert input text to sequences\n",
        "X = tokenizer.texts_to_sequences(combined_df['input_text'])\n",
        "\n",
        "# Pad input sequences to ensure uniform input length\n",
        "max_input_len = max(len(seq) for seq in X)\n",
        "X_pad = pad_sequences(X, maxlen=max_input_len, padding='post')\n",
        "\n",
        "# Encode the output text (e.g., responses and context)\n",
        "output_tokenizer = Tokenizer(oov_token=\"<OOV>\")\n",
        "output_tokenizer.fit_on_texts(combined_df['output_text'])\n",
        "y = output_tokenizer.texts_to_sequences(combined_df['output_text'])\n",
        "\n",
        "# Pad output sequences\n",
        "max_output_len = max(len(seq) for seq in y)\n",
        "y_pad = pad_sequences(y, maxlen=max_output_len, padding='post')\n",
        "\n",
        "# Show processed input and output\n",
        "print(\"Tokenized and padded input (first 5 examples):\")\n",
        "print(X_pad[:5])\n",
        "print(\"Tokenized and padded output (first 5 examples):\")\n",
        "print(y_pad[:5])\n"
      ],
      "metadata": {
        "id": "ec9oJwZJVopV",
        "outputId": "2d8cd85a-3fdc-447c-ddae-3af18b7cee93",
        "colab": {
          "base_uri": "https://localhost:8080/"
        }
      },
      "execution_count": 29,
      "outputs": [
        {
          "output_type": "stream",
          "name": "stdout",
          "text": [
            "Loaded 247 entries with Tags, Pattern, Response, and Context.\n",
            "Tokenized and padded input (first 5 examples):\n",
            "[[  4  56   3   7   2  42   6   4  56   0   0   0   0   0   0   0]\n",
            " [ 57   8  10   2   4  57  31   2   4 168   0   0   0   0   0   0]\n",
            " [ 58  59  95  60  58  59  29 361   5   2  12   0   0   0   0   0]\n",
            " [  4  61   3  13   2 362  24 169 363   5   2   4   0   0   0   0]\n",
            " [  4  62  23  13  62  25   5   4  48   0   0   0   0   0   0   0]]\n",
            "Tokenized and padded output (first 5 examples):\n",
            "[[  3 171   4   5 134  17   6  45 314 450  22   2 315  49   3   5   5 134\n",
            "   27  22 172 680   2 235  56  39   2  46   0   0   0   0   0   0   0   0\n",
            "    0]\n",
            " [  3 135  17 136   6  56  46   2 173   9 236   4  15   7   5  67 316 451\n",
            "   28   9 681 682   4  22 683 174   2 317   4  47   0   0   0   0   0   0\n",
            "    0]\n",
            " [175 176 137  62 684  23 112 237 113   2   7   3 238   4 235 175 176 452\n",
            "  239  87   6 453 177  23 454 685 455   0   0   0   0   0   0   0   0   0\n",
            "    0]\n",
            " [  3 686  11 456  14 318   7   5 319   2 178 687 688 316   2 240  29   5\n",
            "   67 320   6 241  68 689   4  47  32  69 242 243  49   3  12   0   0   0\n",
            "    0]\n",
            " [690 138 321  22   2  15  49   3   5 243 138 320 100 457   2  15  32 114\n",
            "  101   2 450   0   0   0   0   0   0   0   0   0   0   0   0   0   0   0\n",
            "    0]]\n"
          ]
        },
        {
          "output_type": "stream",
          "name": "stderr",
          "text": [
            "[nltk_data] Downloading package punkt to /root/nltk_data...\n",
            "[nltk_data]   Package punkt is already up-to-date!\n"
          ]
        }
      ]
    },
    {
      "cell_type": "code",
      "source": [
        "import nltk\n",
        "from tensorflow.keras.preprocessing.text import Tokenizer\n",
        "from tensorflow.keras.preprocessing.sequence import pad_sequences\n",
        "import numpy as np\n",
        "from sklearn.preprocessing import LabelEncoder\n",
        "\n",
        "# Encode the output text (e.g., responses and context)\n",
        "# Convert responses to categorical labels\n",
        "label_encoder = LabelEncoder()\n",
        "y_labels = label_encoder.fit_transform(combined_df['Response'])  # Assuming 'Response' is the target\n",
        "\n",
        "# Pad input sequences to ensure uniform input length\n",
        "max_input_len = max(len(seq) for seq in X)\n",
        "X_pad = pad_sequences(X, maxlen=max_input_len, padding='post')\n"
      ],
      "metadata": {
        "id": "xJ_EfUR0XZ-p"
      },
      "execution_count": 30,
      "outputs": []
    },
    {
      "cell_type": "code",
      "source": [
        "# Build the LSTM model\n",
        "model = Sequential()\n",
        "model.add(Embedding(input_dim=len(tokenizer.word_index) + 1, output_dim=32, input_length=X_pad.shape[1]))\n",
        "model.add(LSTM(64, return_sequences=False))\n",
        "model.add(Dense(32, activation='relu'))\n",
        "model.add(Dense(len(label_encoder.classes_), activation='softmax'))  # Output layer with correct number of classes\n",
        "\n",
        "# Compile the model\n",
        "model.compile(loss='sparse_categorical_crossentropy', optimizer='adam', metrics=['accuracy'])\n",
        "\n",
        "# Summary of the model\n",
        "model.summary()\n"
      ],
      "metadata": {
        "id": "_aZ9aPnpV5Fv",
        "outputId": "a1c6a7ba-5226-4ad0-ecca-1c62effc5f4b",
        "colab": {
          "base_uri": "https://localhost:8080/",
          "height": 307
        }
      },
      "execution_count": 31,
      "outputs": [
        {
          "output_type": "stream",
          "name": "stderr",
          "text": [
            "/usr/local/lib/python3.10/dist-packages/keras/src/layers/core/embedding.py:90: UserWarning: Argument `input_length` is deprecated. Just remove it.\n",
            "  warnings.warn(\n"
          ]
        },
        {
          "output_type": "display_data",
          "data": {
            "text/plain": [
              "\u001b[1mModel: \"sequential_4\"\u001b[0m\n"
            ],
            "text/html": [
              "<pre style=\"white-space:pre;overflow-x:auto;line-height:normal;font-family:Menlo,'DejaVu Sans Mono',consolas,'Courier New',monospace\"><span style=\"font-weight: bold\">Model: \"sequential_4\"</span>\n",
              "</pre>\n"
            ]
          },
          "metadata": {}
        },
        {
          "output_type": "display_data",
          "data": {
            "text/plain": [
              "┏━━━━━━━━━━━━━━━━━━━━━━━━━━━━━━━━━━━━━━┳━━━━━━━━━━━━━━━━━━━━━━━━━━━━━┳━━━━━━━━━━━━━━━━━┓\n",
              "┃\u001b[1m \u001b[0m\u001b[1mLayer (type)                        \u001b[0m\u001b[1m \u001b[0m┃\u001b[1m \u001b[0m\u001b[1mOutput Shape               \u001b[0m\u001b[1m \u001b[0m┃\u001b[1m \u001b[0m\u001b[1m        Param #\u001b[0m\u001b[1m \u001b[0m┃\n",
              "┡━━━━━━━━━━━━━━━━━━━━━━━━━━━━━━━━━━━━━━╇━━━━━━━━━━━━━━━━━━━━━━━━━━━━━╇━━━━━━━━━━━━━━━━━┩\n",
              "│ embedding_4 (\u001b[38;5;33mEmbedding\u001b[0m)              │ ?                           │     \u001b[38;5;34m0\u001b[0m (unbuilt) │\n",
              "├──────────────────────────────────────┼─────────────────────────────┼─────────────────┤\n",
              "│ lstm_4 (\u001b[38;5;33mLSTM\u001b[0m)                        │ ?                           │     \u001b[38;5;34m0\u001b[0m (unbuilt) │\n",
              "├──────────────────────────────────────┼─────────────────────────────┼─────────────────┤\n",
              "│ dense_7 (\u001b[38;5;33mDense\u001b[0m)                      │ ?                           │     \u001b[38;5;34m0\u001b[0m (unbuilt) │\n",
              "├──────────────────────────────────────┼─────────────────────────────┼─────────────────┤\n",
              "│ dense_8 (\u001b[38;5;33mDense\u001b[0m)                      │ ?                           │     \u001b[38;5;34m0\u001b[0m (unbuilt) │\n",
              "└──────────────────────────────────────┴─────────────────────────────┴─────────────────┘\n"
            ],
            "text/html": [
              "<pre style=\"white-space:pre;overflow-x:auto;line-height:normal;font-family:Menlo,'DejaVu Sans Mono',consolas,'Courier New',monospace\">┏━━━━━━━━━━━━━━━━━━━━━━━━━━━━━━━━━━━━━━┳━━━━━━━━━━━━━━━━━━━━━━━━━━━━━┳━━━━━━━━━━━━━━━━━┓\n",
              "┃<span style=\"font-weight: bold\"> Layer (type)                         </span>┃<span style=\"font-weight: bold\"> Output Shape                </span>┃<span style=\"font-weight: bold\">         Param # </span>┃\n",
              "┡━━━━━━━━━━━━━━━━━━━━━━━━━━━━━━━━━━━━━━╇━━━━━━━━━━━━━━━━━━━━━━━━━━━━━╇━━━━━━━━━━━━━━━━━┩\n",
              "│ embedding_4 (<span style=\"color: #0087ff; text-decoration-color: #0087ff\">Embedding</span>)              │ ?                           │     <span style=\"color: #00af00; text-decoration-color: #00af00\">0</span> (unbuilt) │\n",
              "├──────────────────────────────────────┼─────────────────────────────┼─────────────────┤\n",
              "│ lstm_4 (<span style=\"color: #0087ff; text-decoration-color: #0087ff\">LSTM</span>)                        │ ?                           │     <span style=\"color: #00af00; text-decoration-color: #00af00\">0</span> (unbuilt) │\n",
              "├──────────────────────────────────────┼─────────────────────────────┼─────────────────┤\n",
              "│ dense_7 (<span style=\"color: #0087ff; text-decoration-color: #0087ff\">Dense</span>)                      │ ?                           │     <span style=\"color: #00af00; text-decoration-color: #00af00\">0</span> (unbuilt) │\n",
              "├──────────────────────────────────────┼─────────────────────────────┼─────────────────┤\n",
              "│ dense_8 (<span style=\"color: #0087ff; text-decoration-color: #0087ff\">Dense</span>)                      │ ?                           │     <span style=\"color: #00af00; text-decoration-color: #00af00\">0</span> (unbuilt) │\n",
              "└──────────────────────────────────────┴─────────────────────────────┴─────────────────┘\n",
              "</pre>\n"
            ]
          },
          "metadata": {}
        },
        {
          "output_type": "display_data",
          "data": {
            "text/plain": [
              "\u001b[1m Total params: \u001b[0m\u001b[38;5;34m0\u001b[0m (0.00 B)\n"
            ],
            "text/html": [
              "<pre style=\"white-space:pre;overflow-x:auto;line-height:normal;font-family:Menlo,'DejaVu Sans Mono',consolas,'Courier New',monospace\"><span style=\"font-weight: bold\"> Total params: </span><span style=\"color: #00af00; text-decoration-color: #00af00\">0</span> (0.00 B)\n",
              "</pre>\n"
            ]
          },
          "metadata": {}
        },
        {
          "output_type": "display_data",
          "data": {
            "text/plain": [
              "\u001b[1m Trainable params: \u001b[0m\u001b[38;5;34m0\u001b[0m (0.00 B)\n"
            ],
            "text/html": [
              "<pre style=\"white-space:pre;overflow-x:auto;line-height:normal;font-family:Menlo,'DejaVu Sans Mono',consolas,'Courier New',monospace\"><span style=\"font-weight: bold\"> Trainable params: </span><span style=\"color: #00af00; text-decoration-color: #00af00\">0</span> (0.00 B)\n",
              "</pre>\n"
            ]
          },
          "metadata": {}
        },
        {
          "output_type": "display_data",
          "data": {
            "text/plain": [
              "\u001b[1m Non-trainable params: \u001b[0m\u001b[38;5;34m0\u001b[0m (0.00 B)\n"
            ],
            "text/html": [
              "<pre style=\"white-space:pre;overflow-x:auto;line-height:normal;font-family:Menlo,'DejaVu Sans Mono',consolas,'Courier New',monospace\"><span style=\"font-weight: bold\"> Non-trainable params: </span><span style=\"color: #00af00; text-decoration-color: #00af00\">0</span> (0.00 B)\n",
              "</pre>\n"
            ]
          },
          "metadata": {}
        }
      ]
    },
    {
      "cell_type": "code",
      "source": [
        "from tensorflow.keras.callbacks import ModelCheckpoint, EarlyStopping\n",
        "import os\n",
        "\n",
        "# Define checkpoint directory in Google Drive\n",
        "checkpoint_dir = '/content/drive/MyDrive/rotcChatbot/checkpoints/'\n",
        "os.makedirs(checkpoint_dir, exist_ok=True)\n",
        "\n",
        "# Define checkpoint and final model paths\n",
        "checkpoint_path = os.path.join(checkpoint_dir, 'chatbot_model_checkpoint.keras')\n",
        "final_model_path = '/content/drive/MyDrive/rotcChatbot/lstm_chatbot_model.keras'\n",
        "\n",
        "# Set up EarlyStopping and ModelCheckpoint callbacks\n",
        "early_stopping = EarlyStopping(\n",
        "    monitor='loss',  # Monitor training loss (you can also monitor 'val_loss' if using validation)\n",
        "    patience=3,      # Stop training if no improvement after 3 epochs\n",
        "    restore_best_weights=True  # Restore the model with the best weights\n",
        ")\n",
        "\n",
        "checkpoint_callback = ModelCheckpoint(\n",
        "    filepath=checkpoint_path,  # Save checkpoint to Google Drive\n",
        "    save_best_only=True,       # Save only the best model based on monitored metric\n",
        "    monitor='loss',            # Monitor training loss\n",
        "    verbose=1                  # Print messages when saving checkpoints\n",
        ")\n",
        "\n",
        "# Train the model with EarlyStopping and ModelCheckpoint\n",
        "history = model.fit(\n",
        "    X_pad, y_labels,  # Use encoded labels for training\n",
        "    epochs=50,             # Maximum number of epochs\n",
        "    batch_size=32,          # Batch size\n",
        "    verbose=1,              # Display progress\n",
        "    callbacks=[early_stopping, checkpoint_callback]  # Apply callbacks\n",
        ")\n",
        "\n",
        "# Save the final trained model to Google Drive\n",
        "model.save(final_model_path)\n",
        "print(f\"Final model saved at {final_model_path}\")\n"
      ],
      "metadata": {
        "collapsed": true,
        "id": "6kb_AM2wWUxu",
        "outputId": "99dc2790-00d7-476c-f03d-6aa52ce93b9c",
        "colab": {
          "base_uri": "https://localhost:8080/"
        }
      },
      "execution_count": 32,
      "outputs": [
        {
          "output_type": "stream",
          "name": "stdout",
          "text": [
            "Epoch 1/50\n",
            "\u001b[1m7/8\u001b[0m \u001b[32m━━━━━━━━━━━━━━━━━\u001b[0m\u001b[37m━━━\u001b[0m \u001b[1m0s\u001b[0m 10ms/step - accuracy: 0.0000e+00 - loss: 5.5103\n",
            "Epoch 1: loss improved from inf to 5.51184, saving model to /content/drive/MyDrive/rotcChatbot/checkpoints/chatbot_model_checkpoint.keras\n",
            "\u001b[1m8/8\u001b[0m \u001b[32m━━━━━━━━━━━━━━━━━━━━\u001b[0m\u001b[37m\u001b[0m \u001b[1m3s\u001b[0m 16ms/step - accuracy: 0.0000e+00 - loss: 5.5107\n",
            "Epoch 2/50\n",
            "\u001b[1m7/8\u001b[0m \u001b[32m━━━━━━━━━━━━━━━━━\u001b[0m\u001b[37m━━━\u001b[0m \u001b[1m0s\u001b[0m 9ms/step - accuracy: 0.0150 - loss: 5.5089 \n",
            "Epoch 2: loss improved from 5.51184 to 5.50930, saving model to /content/drive/MyDrive/rotcChatbot/checkpoints/chatbot_model_checkpoint.keras\n",
            "\u001b[1m8/8\u001b[0m \u001b[32m━━━━━━━━━━━━━━━━━━━━\u001b[0m\u001b[37m\u001b[0m \u001b[1m0s\u001b[0m 15ms/step - accuracy: 0.0134 - loss: 5.5090\n",
            "Epoch 3/50\n",
            "\u001b[1m7/8\u001b[0m \u001b[32m━━━━━━━━━━━━━━━━━\u001b[0m\u001b[37m━━━\u001b[0m \u001b[1m0s\u001b[0m 10ms/step - accuracy: 0.0096 - loss: 5.5090    \n",
            "Epoch 3: loss improved from 5.50930 to 5.50825, saving model to /content/drive/MyDrive/rotcChatbot/checkpoints/chatbot_model_checkpoint.keras\n",
            "\u001b[1m8/8\u001b[0m \u001b[32m━━━━━━━━━━━━━━━━━━━━\u001b[0m\u001b[37m\u001b[0m \u001b[1m0s\u001b[0m 16ms/step - accuracy: 0.0120 - loss: 5.5088\n",
            "Epoch 4/50\n",
            "\u001b[1m5/8\u001b[0m \u001b[32m━━━━━━━━━━━━\u001b[0m\u001b[37m━━━━━━━━\u001b[0m \u001b[1m0s\u001b[0m 13ms/step - accuracy: 0.0290 - loss: 5.5063     \n",
            "Epoch 4: loss improved from 5.50825 to 5.50671, saving model to /content/drive/MyDrive/rotcChatbot/checkpoints/chatbot_model_checkpoint.keras\n",
            "\u001b[1m8/8\u001b[0m \u001b[32m━━━━━━━━━━━━━━━━━━━━\u001b[0m\u001b[37m\u001b[0m \u001b[1m0s\u001b[0m 18ms/step - accuracy: 0.0249 - loss: 5.5065\n",
            "Epoch 5/50\n",
            "\u001b[1m7/8\u001b[0m \u001b[32m━━━━━━━━━━━━━━━━━\u001b[0m\u001b[37m━━━\u001b[0m \u001b[1m0s\u001b[0m 9ms/step - accuracy: 0.0266 - loss: 5.5036 \n",
            "Epoch 5: loss improved from 5.50671 to 5.50279, saving model to /content/drive/MyDrive/rotcChatbot/checkpoints/chatbot_model_checkpoint.keras\n",
            "\u001b[1m8/8\u001b[0m \u001b[32m━━━━━━━━━━━━━━━━━━━━\u001b[0m\u001b[37m\u001b[0m \u001b[1m0s\u001b[0m 15ms/step - accuracy: 0.0252 - loss: 5.5034\n",
            "Epoch 6/50\n",
            "\u001b[1m6/8\u001b[0m \u001b[32m━━━━━━━━━━━━━━━\u001b[0m\u001b[37m━━━━━\u001b[0m \u001b[1m0s\u001b[0m 11ms/step - accuracy: 0.0116 - loss: 5.4966    \n",
            "Epoch 6: loss improved from 5.50279 to 5.49155, saving model to /content/drive/MyDrive/rotcChatbot/checkpoints/chatbot_model_checkpoint.keras\n",
            "\u001b[1m8/8\u001b[0m \u001b[32m━━━━━━━━━━━━━━━━━━━━\u001b[0m\u001b[37m\u001b[0m \u001b[1m0s\u001b[0m 18ms/step - accuracy: 0.0119 - loss: 5.4951\n",
            "Epoch 7/50\n",
            "\u001b[1m6/8\u001b[0m \u001b[32m━━━━━━━━━━━━━━━\u001b[0m\u001b[37m━━━━━\u001b[0m \u001b[1m0s\u001b[0m 10ms/step - accuracy: 0.0049 - loss: 5.4623    \n",
            "Epoch 7: loss improved from 5.49155 to 5.45214, saving model to /content/drive/MyDrive/rotcChatbot/checkpoints/chatbot_model_checkpoint.keras\n",
            "\u001b[1m8/8\u001b[0m \u001b[32m━━━━━━━━━━━━━━━━━━━━\u001b[0m\u001b[37m\u001b[0m \u001b[1m0s\u001b[0m 16ms/step - accuracy: 0.0047 - loss: 5.4588\n",
            "Epoch 8/50\n",
            "\u001b[1m7/8\u001b[0m \u001b[32m━━━━━━━━━━━━━━━━━\u001b[0m\u001b[37m━━━\u001b[0m \u001b[1m0s\u001b[0m 9ms/step - accuracy: 0.0235 - loss: 5.3779 \n",
            "Epoch 8: loss improved from 5.45214 to 5.34771, saving model to /content/drive/MyDrive/rotcChatbot/checkpoints/chatbot_model_checkpoint.keras\n",
            "\u001b[1m8/8\u001b[0m \u001b[32m━━━━━━━━━━━━━━━━━━━━\u001b[0m\u001b[37m\u001b[0m \u001b[1m0s\u001b[0m 15ms/step - accuracy: 0.0218 - loss: 5.3712\n",
            "Epoch 9/50\n",
            "\u001b[1m7/8\u001b[0m \u001b[32m━━━━━━━━━━━━━━━━━\u001b[0m\u001b[37m━━━\u001b[0m \u001b[1m0s\u001b[0m 10ms/step - accuracy: 0.0145 - loss: 5.2469    \n",
            "Epoch 9: loss improved from 5.34771 to 5.22644, saving model to /content/drive/MyDrive/rotcChatbot/checkpoints/chatbot_model_checkpoint.keras\n",
            "\u001b[1m8/8\u001b[0m \u001b[32m━━━━━━━━━━━━━━━━━━━━\u001b[0m\u001b[37m\u001b[0m \u001b[1m0s\u001b[0m 15ms/step - accuracy: 0.0149 - loss: 5.2424\n",
            "Epoch 10/50\n",
            "\u001b[1m7/8\u001b[0m \u001b[32m━━━━━━━━━━━━━━━━━\u001b[0m\u001b[37m━━━\u001b[0m \u001b[1m0s\u001b[0m 9ms/step - accuracy: 0.0190 - loss: 5.1073 \n",
            "Epoch 10: loss improved from 5.22644 to 5.10421, saving model to /content/drive/MyDrive/rotcChatbot/checkpoints/chatbot_model_checkpoint.keras\n",
            "\u001b[1m8/8\u001b[0m \u001b[32m━━━━━━━━━━━━━━━━━━━━\u001b[0m\u001b[37m\u001b[0m \u001b[1m0s\u001b[0m 17ms/step - accuracy: 0.0184 - loss: 5.1066\n",
            "Epoch 11/50\n",
            "\u001b[1m7/8\u001b[0m \u001b[32m━━━━━━━━━━━━━━━━━\u001b[0m\u001b[37m━━━\u001b[0m \u001b[1m0s\u001b[0m 9ms/step - accuracy: 0.0000e+00 - loss: 5.0038  \n",
            "Epoch 11: loss improved from 5.10421 to 4.95744, saving model to /content/drive/MyDrive/rotcChatbot/checkpoints/chatbot_model_checkpoint.keras\n",
            "\u001b[1m8/8\u001b[0m \u001b[32m━━━━━━━━━━━━━━━━━━━━\u001b[0m\u001b[37m\u001b[0m \u001b[1m0s\u001b[0m 15ms/step - accuracy: 0.0000e+00 - loss: 4.9935\n",
            "Epoch 12/50\n",
            "\u001b[1m6/8\u001b[0m \u001b[32m━━━━━━━━━━━━━━━\u001b[0m\u001b[37m━━━━━\u001b[0m \u001b[1m0s\u001b[0m 11ms/step - accuracy: 0.0239 - loss: 4.8575    \n",
            "Epoch 12: loss improved from 4.95744 to 4.81301, saving model to /content/drive/MyDrive/rotcChatbot/checkpoints/chatbot_model_checkpoint.keras\n",
            "\u001b[1m8/8\u001b[0m \u001b[32m━━━━━━━━━━━━━━━━━━━━\u001b[0m\u001b[37m\u001b[0m \u001b[1m0s\u001b[0m 17ms/step - accuracy: 0.0243 - loss: 4.8427\n",
            "Epoch 13/50\n",
            "\u001b[1m7/8\u001b[0m \u001b[32m━━━━━━━━━━━━━━━━━\u001b[0m\u001b[37m━━━\u001b[0m \u001b[1m0s\u001b[0m 9ms/step - accuracy: 0.0238 - loss: 4.6611 \n",
            "Epoch 13: loss improved from 4.81301 to 4.66571, saving model to /content/drive/MyDrive/rotcChatbot/checkpoints/chatbot_model_checkpoint.keras\n",
            "\u001b[1m8/8\u001b[0m \u001b[32m━━━━━━━━━━━━━━━━━━━━\u001b[0m\u001b[37m\u001b[0m \u001b[1m0s\u001b[0m 15ms/step - accuracy: 0.0257 - loss: 4.6622\n",
            "Epoch 14/50\n",
            "\u001b[1m7/8\u001b[0m \u001b[32m━━━━━━━━━━━━━━━━━\u001b[0m\u001b[37m━━━\u001b[0m \u001b[1m0s\u001b[0m 9ms/step - accuracy: 0.0321 - loss: 4.4881 \n",
            "Epoch 14: loss improved from 4.66571 to 4.52310, saving model to /content/drive/MyDrive/rotcChatbot/checkpoints/chatbot_model_checkpoint.keras\n",
            "\u001b[1m8/8\u001b[0m \u001b[32m━━━━━━━━━━━━━━━━━━━━\u001b[0m\u001b[37m\u001b[0m \u001b[1m0s\u001b[0m 19ms/step - accuracy: 0.0322 - loss: 4.4959\n",
            "Epoch 15/50\n",
            "\u001b[1m7/8\u001b[0m \u001b[32m━━━━━━━━━━━━━━━━━\u001b[0m\u001b[37m━━━\u001b[0m \u001b[1m0s\u001b[0m 9ms/step - accuracy: 0.0481 - loss: 4.4433 \n",
            "Epoch 15: loss improved from 4.52310 to 4.40358, saving model to /content/drive/MyDrive/rotcChatbot/checkpoints/chatbot_model_checkpoint.keras\n",
            "\u001b[1m8/8\u001b[0m \u001b[32m━━━━━━━━━━━━━━━━━━━━\u001b[0m\u001b[37m\u001b[0m \u001b[1m0s\u001b[0m 15ms/step - accuracy: 0.0446 - loss: 4.4345\n",
            "Epoch 16/50\n",
            "\u001b[1m5/8\u001b[0m \u001b[32m━━━━━━━━━━━━\u001b[0m\u001b[37m━━━━━━━━\u001b[0m \u001b[1m0s\u001b[0m 13ms/step - accuracy: 0.0492 - loss: 4.3504\n",
            "Epoch 16: loss improved from 4.40358 to 4.29840, saving model to /content/drive/MyDrive/rotcChatbot/checkpoints/chatbot_model_checkpoint.keras\n",
            "\u001b[1m8/8\u001b[0m \u001b[32m━━━━━━━━━━━━━━━━━━━━\u001b[0m\u001b[37m\u001b[0m \u001b[1m0s\u001b[0m 20ms/step - accuracy: 0.0401 - loss: 4.3305\n",
            "Epoch 17/50\n",
            "\u001b[1m7/8\u001b[0m \u001b[32m━━━━━━━━━━━━━━━━━\u001b[0m\u001b[37m━━━\u001b[0m \u001b[1m0s\u001b[0m 10ms/step - accuracy: 0.0582 - loss: 4.1909 \n",
            "Epoch 17: loss improved from 4.29840 to 4.21022, saving model to /content/drive/MyDrive/rotcChatbot/checkpoints/chatbot_model_checkpoint.keras\n",
            "\u001b[1m8/8\u001b[0m \u001b[32m━━━━━━━━━━━━━━━━━━━━\u001b[0m\u001b[37m\u001b[0m \u001b[1m0s\u001b[0m 17ms/step - accuracy: 0.0561 - loss: 4.1952\n",
            "Epoch 18/50\n",
            "\u001b[1m7/8\u001b[0m \u001b[32m━━━━━━━━━━━━━━━━━\u001b[0m\u001b[37m━━━\u001b[0m \u001b[1m0s\u001b[0m 10ms/step - accuracy: 0.0515 - loss: 4.1465 \n",
            "Epoch 18: loss improved from 4.21022 to 4.11850, saving model to /content/drive/MyDrive/rotcChatbot/checkpoints/chatbot_model_checkpoint.keras\n",
            "\u001b[1m8/8\u001b[0m \u001b[32m━━━━━━━━━━━━━━━━━━━━\u001b[0m\u001b[37m\u001b[0m \u001b[1m0s\u001b[0m 16ms/step - accuracy: 0.0517 - loss: 4.1403\n",
            "Epoch 19/50\n",
            "\u001b[1m6/8\u001b[0m \u001b[32m━━━━━━━━━━━━━━━\u001b[0m\u001b[37m━━━━━\u001b[0m \u001b[1m0s\u001b[0m 11ms/step - accuracy: 0.0747 - loss: 3.9574\n",
            "Epoch 19: loss improved from 4.11850 to 4.01047, saving model to /content/drive/MyDrive/rotcChatbot/checkpoints/chatbot_model_checkpoint.keras\n",
            "\u001b[1m8/8\u001b[0m \u001b[32m━━━━━━━━━━━━━━━━━━━━\u001b[0m\u001b[37m\u001b[0m \u001b[1m0s\u001b[0m 17ms/step - accuracy: 0.0665 - loss: 3.9729\n",
            "Epoch 20/50\n",
            "\u001b[1m6/8\u001b[0m \u001b[32m━━━━━━━━━━━━━━━\u001b[0m\u001b[37m━━━━━\u001b[0m \u001b[1m0s\u001b[0m 10ms/step - accuracy: 0.0654 - loss: 3.8900\n",
            "Epoch 20: loss improved from 4.01047 to 3.90523, saving model to /content/drive/MyDrive/rotcChatbot/checkpoints/chatbot_model_checkpoint.keras\n",
            "\u001b[1m8/8\u001b[0m \u001b[32m━━━━━━━━━━━━━━━━━━━━\u001b[0m\u001b[37m\u001b[0m \u001b[1m0s\u001b[0m 18ms/step - accuracy: 0.0626 - loss: 3.8964\n",
            "Epoch 21/50\n",
            "\u001b[1m6/8\u001b[0m \u001b[32m━━━━━━━━━━━━━━━\u001b[0m\u001b[37m━━━━━\u001b[0m \u001b[1m0s\u001b[0m 10ms/step - accuracy: 0.0705 - loss: 3.7828\n",
            "Epoch 21: loss improved from 3.90523 to 3.79015, saving model to /content/drive/MyDrive/rotcChatbot/checkpoints/chatbot_model_checkpoint.keras\n",
            "\u001b[1m8/8\u001b[0m \u001b[32m━━━━━━━━━━━━━━━━━━━━\u001b[0m\u001b[37m\u001b[0m \u001b[1m0s\u001b[0m 17ms/step - accuracy: 0.0674 - loss: 3.7846\n",
            "Epoch 22/50\n",
            "\u001b[1m6/8\u001b[0m \u001b[32m━━━━━━━━━━━━━━━\u001b[0m\u001b[37m━━━━━\u001b[0m \u001b[1m0s\u001b[0m 11ms/step - accuracy: 0.0768 - loss: 3.7263 \n",
            "Epoch 22: loss improved from 3.79015 to 3.67830, saving model to /content/drive/MyDrive/rotcChatbot/checkpoints/chatbot_model_checkpoint.keras\n",
            "\u001b[1m8/8\u001b[0m \u001b[32m━━━━━━━━━━━━━━━━━━━━\u001b[0m\u001b[37m\u001b[0m \u001b[1m0s\u001b[0m 17ms/step - accuracy: 0.0828 - loss: 3.7094\n",
            "Epoch 23/50\n",
            "\u001b[1m7/8\u001b[0m \u001b[32m━━━━━━━━━━━━━━━━━\u001b[0m\u001b[37m━━━\u001b[0m \u001b[1m0s\u001b[0m 9ms/step - accuracy: 0.1323 - loss: 3.5289  \n",
            "Epoch 23: loss improved from 3.67830 to 3.57846, saving model to /content/drive/MyDrive/rotcChatbot/checkpoints/chatbot_model_checkpoint.keras\n",
            "\u001b[1m8/8\u001b[0m \u001b[32m━━━━━━━━━━━━━━━━━━━━\u001b[0m\u001b[37m\u001b[0m \u001b[1m0s\u001b[0m 16ms/step - accuracy: 0.1281 - loss: 3.5399\n",
            "Epoch 24/50\n",
            "\u001b[1m6/8\u001b[0m \u001b[32m━━━━━━━━━━━━━━━\u001b[0m\u001b[37m━━━━━\u001b[0m \u001b[1m0s\u001b[0m 11ms/step - accuracy: 0.1285 - loss: 3.5483\n",
            "Epoch 24: loss improved from 3.57846 to 3.48018, saving model to /content/drive/MyDrive/rotcChatbot/checkpoints/chatbot_model_checkpoint.keras\n",
            "\u001b[1m8/8\u001b[0m \u001b[32m━━━━━━━━━━━━━━━━━━━━\u001b[0m\u001b[37m\u001b[0m \u001b[1m0s\u001b[0m 16ms/step - accuracy: 0.1399 - loss: 3.5260\n",
            "Epoch 25/50\n",
            "\u001b[1m7/8\u001b[0m \u001b[32m━━━━━━━━━━━━━━━━━\u001b[0m\u001b[37m━━━\u001b[0m \u001b[1m0s\u001b[0m 10ms/step - accuracy: 0.1907 - loss: 3.4249 \n",
            "Epoch 25: loss improved from 3.48018 to 3.38789, saving model to /content/drive/MyDrive/rotcChatbot/checkpoints/chatbot_model_checkpoint.keras\n",
            "\u001b[1m8/8\u001b[0m \u001b[32m━━━━━━━━━━━━━━━━━━━━\u001b[0m\u001b[37m\u001b[0m \u001b[1m0s\u001b[0m 17ms/step - accuracy: 0.1924 - loss: 3.4167\n",
            "Epoch 26/50\n",
            "\u001b[1m7/8\u001b[0m \u001b[32m━━━━━━━━━━━━━━━━━\u001b[0m\u001b[37m━━━\u001b[0m \u001b[1m0s\u001b[0m 9ms/step - accuracy: 0.2960 - loss: 3.2872  \n",
            "Epoch 26: loss improved from 3.38789 to 3.30452, saving model to /content/drive/MyDrive/rotcChatbot/checkpoints/chatbot_model_checkpoint.keras\n",
            "\u001b[1m8/8\u001b[0m \u001b[32m━━━━━━━━━━━━━━━━━━━━\u001b[0m\u001b[37m\u001b[0m \u001b[1m0s\u001b[0m 15ms/step - accuracy: 0.2851 - loss: 3.2910\n",
            "Epoch 27/50\n",
            "\u001b[1m6/8\u001b[0m \u001b[32m━━━━━━━━━━━━━━━\u001b[0m\u001b[37m━━━━━\u001b[0m \u001b[1m0s\u001b[0m 10ms/step - accuracy: 0.2476 - loss: 3.2295\n",
            "Epoch 27: loss improved from 3.30452 to 3.22338, saving model to /content/drive/MyDrive/rotcChatbot/checkpoints/chatbot_model_checkpoint.keras\n",
            "\u001b[1m8/8\u001b[0m \u001b[32m━━━━━━━━━━━━━━━━━━━━\u001b[0m\u001b[37m\u001b[0m \u001b[1m0s\u001b[0m 16ms/step - accuracy: 0.2402 - loss: 3.2280\n",
            "Epoch 28/50\n",
            "\u001b[1m7/8\u001b[0m \u001b[32m━━━━━━━━━━━━━━━━━\u001b[0m\u001b[37m━━━\u001b[0m \u001b[1m0s\u001b[0m 10ms/step - accuracy: 0.2626 - loss: 3.1517\n",
            "Epoch 28: loss improved from 3.22338 to 3.15499, saving model to /content/drive/MyDrive/rotcChatbot/checkpoints/chatbot_model_checkpoint.keras\n",
            "\u001b[1m8/8\u001b[0m \u001b[32m━━━━━━━━━━━━━━━━━━━━\u001b[0m\u001b[37m\u001b[0m \u001b[1m0s\u001b[0m 15ms/step - accuracy: 0.2573 - loss: 3.1524\n",
            "Epoch 29/50\n",
            "\u001b[1m6/8\u001b[0m \u001b[32m━━━━━━━━━━━━━━━\u001b[0m\u001b[37m━━━━━\u001b[0m \u001b[1m0s\u001b[0m 11ms/step - accuracy: 0.3199 - loss: 3.1007 \n",
            "Epoch 29: loss improved from 3.15499 to 3.09610, saving model to /content/drive/MyDrive/rotcChatbot/checkpoints/chatbot_model_checkpoint.keras\n",
            "\u001b[1m8/8\u001b[0m \u001b[32m━━━━━━━━━━━━━━━━━━━━\u001b[0m\u001b[37m\u001b[0m \u001b[1m0s\u001b[0m 17ms/step - accuracy: 0.3043 - loss: 3.0995\n",
            "Epoch 30/50\n",
            "\u001b[1m7/8\u001b[0m \u001b[32m━━━━━━━━━━━━━━━━━\u001b[0m\u001b[37m━━━\u001b[0m \u001b[1m0s\u001b[0m 10ms/step - accuracy: 0.2546 - loss: 3.0119\n",
            "Epoch 30: loss improved from 3.09610 to 3.01843, saving model to /content/drive/MyDrive/rotcChatbot/checkpoints/chatbot_model_checkpoint.keras\n",
            "\u001b[1m8/8\u001b[0m \u001b[32m━━━━━━━━━━━━━━━━━━━━\u001b[0m\u001b[37m\u001b[0m \u001b[1m0s\u001b[0m 18ms/step - accuracy: 0.2574 - loss: 3.0134\n",
            "Epoch 31/50\n",
            "\u001b[1m7/8\u001b[0m \u001b[32m━━━━━━━━━━━━━━━━━\u001b[0m\u001b[37m━━━\u001b[0m \u001b[1m0s\u001b[0m 9ms/step - accuracy: 0.3313 - loss: 2.9660  \n",
            "Epoch 31: loss improved from 3.01843 to 2.93439, saving model to /content/drive/MyDrive/rotcChatbot/checkpoints/chatbot_model_checkpoint.keras\n",
            "\u001b[1m8/8\u001b[0m \u001b[32m━━━━━━━━━━━━━━━━━━━━\u001b[0m\u001b[37m\u001b[0m \u001b[1m0s\u001b[0m 15ms/step - accuracy: 0.3261 - loss: 2.9590\n",
            "Epoch 32/50\n",
            "\u001b[1m6/8\u001b[0m \u001b[32m━━━━━━━━━━━━━━━\u001b[0m\u001b[37m━━━━━\u001b[0m \u001b[1m0s\u001b[0m 11ms/step - accuracy: 0.4526 - loss: 2.8139\n",
            "Epoch 32: loss improved from 2.93439 to 2.85987, saving model to /content/drive/MyDrive/rotcChatbot/checkpoints/chatbot_model_checkpoint.keras\n",
            "\u001b[1m8/8\u001b[0m \u001b[32m━━━━━━━━━━━━━━━━━━━━\u001b[0m\u001b[37m\u001b[0m \u001b[1m0s\u001b[0m 17ms/step - accuracy: 0.4128 - loss: 2.8283\n",
            "Epoch 33/50\n",
            "\u001b[1m6/8\u001b[0m \u001b[32m━━━━━━━━━━━━━━━\u001b[0m\u001b[37m━━━━━\u001b[0m \u001b[1m0s\u001b[0m 10ms/step - accuracy: 0.4163 - loss: 2.7851\n",
            "Epoch 33: loss improved from 2.85987 to 2.79892, saving model to /content/drive/MyDrive/rotcChatbot/checkpoints/chatbot_model_checkpoint.keras\n",
            "\u001b[1m8/8\u001b[0m \u001b[32m━━━━━━━━━━━━━━━━━━━━\u001b[0m\u001b[37m\u001b[0m \u001b[1m0s\u001b[0m 16ms/step - accuracy: 0.4031 - loss: 2.7881\n",
            "Epoch 34/50\n",
            "\u001b[1m6/8\u001b[0m \u001b[32m━━━━━━━━━━━━━━━\u001b[0m\u001b[37m━━━━━\u001b[0m \u001b[1m0s\u001b[0m 12ms/step - accuracy: 0.4262 - loss: 2.7034\n",
            "Epoch 34: loss improved from 2.79892 to 2.73869, saving model to /content/drive/MyDrive/rotcChatbot/checkpoints/chatbot_model_checkpoint.keras\n",
            "\u001b[1m8/8\u001b[0m \u001b[32m━━━━━━━━━━━━━━━━━━━━\u001b[0m\u001b[37m\u001b[0m \u001b[1m0s\u001b[0m 20ms/step - accuracy: 0.4067 - loss: 2.7152\n",
            "Epoch 35/50\n",
            "\u001b[1m5/8\u001b[0m \u001b[32m━━━━━━━━━━━━\u001b[0m\u001b[37m━━━━━━━━\u001b[0m \u001b[1m0s\u001b[0m 15ms/step - accuracy: 0.3706 - loss: 2.6851 \n",
            "Epoch 35: loss improved from 2.73869 to 2.68618, saving model to /content/drive/MyDrive/rotcChatbot/checkpoints/chatbot_model_checkpoint.keras\n",
            "\u001b[1m8/8\u001b[0m \u001b[32m━━━━━━━━━━━━━━━━━━━━\u001b[0m\u001b[37m\u001b[0m \u001b[1m0s\u001b[0m 18ms/step - accuracy: 0.3730 - loss: 2.6903\n",
            "Epoch 36/50\n",
            "\u001b[1m7/8\u001b[0m \u001b[32m━━━━━━━━━━━━━━━━━\u001b[0m\u001b[37m━━━\u001b[0m \u001b[1m0s\u001b[0m 9ms/step - accuracy: 0.4420 - loss: 2.6054  \n",
            "Epoch 36: loss improved from 2.68618 to 2.64039, saving model to /content/drive/MyDrive/rotcChatbot/checkpoints/chatbot_model_checkpoint.keras\n",
            "\u001b[1m8/8\u001b[0m \u001b[32m━━━━━━━━━━━━━━━━━━━━\u001b[0m\u001b[37m\u001b[0m \u001b[1m0s\u001b[0m 15ms/step - accuracy: 0.4337 - loss: 2.6132\n",
            "Epoch 37/50\n",
            "\u001b[1m7/8\u001b[0m \u001b[32m━━━━━━━━━━━━━━━━━\u001b[0m\u001b[37m━━━\u001b[0m \u001b[1m0s\u001b[0m 9ms/step - accuracy: 0.4854 - loss: 2.5397 \n",
            "Epoch 37: loss improved from 2.64039 to 2.57000, saving model to /content/drive/MyDrive/rotcChatbot/checkpoints/chatbot_model_checkpoint.keras\n",
            "\u001b[1m8/8\u001b[0m \u001b[32m━━━━━━━━━━━━━━━━━━━━\u001b[0m\u001b[37m\u001b[0m \u001b[1m0s\u001b[0m 16ms/step - accuracy: 0.4738 - loss: 2.5464\n",
            "Epoch 38/50\n",
            "\u001b[1m6/8\u001b[0m \u001b[32m━━━━━━━━━━━━━━━\u001b[0m\u001b[37m━━━━━\u001b[0m \u001b[1m0s\u001b[0m 11ms/step - accuracy: 0.5011 - loss: 2.5190 \n",
            "Epoch 38: loss improved from 2.57000 to 2.52835, saving model to /content/drive/MyDrive/rotcChatbot/checkpoints/chatbot_model_checkpoint.keras\n",
            "\u001b[1m8/8\u001b[0m \u001b[32m━━━━━━━━━━━━━━━━━━━━\u001b[0m\u001b[37m\u001b[0m \u001b[1m0s\u001b[0m 17ms/step - accuracy: 0.4735 - loss: 2.5223\n",
            "Epoch 39/50\n",
            "\u001b[1m7/8\u001b[0m \u001b[32m━━━━━━━━━━━━━━━━━\u001b[0m\u001b[37m━━━\u001b[0m \u001b[1m0s\u001b[0m 9ms/step - accuracy: 0.4679 - loss: 2.4872 \n",
            "Epoch 39: loss improved from 2.52835 to 2.47378, saving model to /content/drive/MyDrive/rotcChatbot/checkpoints/chatbot_model_checkpoint.keras\n",
            "\u001b[1m8/8\u001b[0m \u001b[32m━━━━━━━━━━━━━━━━━━━━\u001b[0m\u001b[37m\u001b[0m \u001b[1m0s\u001b[0m 15ms/step - accuracy: 0.4647 - loss: 2.4842\n",
            "Epoch 40/50\n",
            "\u001b[1m5/8\u001b[0m \u001b[32m━━━━━━━━━━━━\u001b[0m\u001b[37m━━━━━━━━\u001b[0m \u001b[1m0s\u001b[0m 14ms/step - accuracy: 0.4913 - loss: 2.4606\n",
            "Epoch 40: loss improved from 2.47378 to 2.43741, saving model to /content/drive/MyDrive/rotcChatbot/checkpoints/chatbot_model_checkpoint.keras\n",
            "\u001b[1m8/8\u001b[0m \u001b[32m━━━━━━━━━━━━━━━━━━━━\u001b[0m\u001b[37m\u001b[0m \u001b[1m0s\u001b[0m 17ms/step - accuracy: 0.4775 - loss: 2.4492\n",
            "Epoch 41/50\n",
            "\u001b[1m7/8\u001b[0m \u001b[32m━━━━━━━━━━━━━━━━━\u001b[0m\u001b[37m━━━\u001b[0m \u001b[1m0s\u001b[0m 9ms/step - accuracy: 0.4624 - loss: 2.4188 \n",
            "Epoch 41: loss improved from 2.43741 to 2.41851, saving model to /content/drive/MyDrive/rotcChatbot/checkpoints/chatbot_model_checkpoint.keras\n",
            "\u001b[1m8/8\u001b[0m \u001b[32m━━━━━━━━━━━━━━━━━━━━\u001b[0m\u001b[37m\u001b[0m \u001b[1m0s\u001b[0m 16ms/step - accuracy: 0.4541 - loss: 2.4188\n",
            "Epoch 42/50\n",
            "\u001b[1m6/8\u001b[0m \u001b[32m━━━━━━━━━━━━━━━\u001b[0m\u001b[37m━━━━━\u001b[0m \u001b[1m0s\u001b[0m 10ms/step - accuracy: 0.4185 - loss: 2.4126 \n",
            "Epoch 42: loss improved from 2.41851 to 2.38225, saving model to /content/drive/MyDrive/rotcChatbot/checkpoints/chatbot_model_checkpoint.keras\n",
            "\u001b[1m8/8\u001b[0m \u001b[32m━━━━━━━━━━━━━━━━━━━━\u001b[0m\u001b[37m\u001b[0m \u001b[1m0s\u001b[0m 16ms/step - accuracy: 0.4262 - loss: 2.4026\n",
            "Epoch 43/50\n",
            "\u001b[1m6/8\u001b[0m \u001b[32m━━━━━━━━━━━━━━━\u001b[0m\u001b[37m━━━━━\u001b[0m \u001b[1m0s\u001b[0m 12ms/step - accuracy: 0.5641 - loss: 2.2975\n",
            "Epoch 43: loss improved from 2.38225 to 2.31526, saving model to /content/drive/MyDrive/rotcChatbot/checkpoints/chatbot_model_checkpoint.keras\n",
            "\u001b[1m8/8\u001b[0m \u001b[32m━━━━━━━━━━━━━━━━━━━━\u001b[0m\u001b[37m\u001b[0m \u001b[1m0s\u001b[0m 20ms/step - accuracy: 0.5446 - loss: 2.3020\n",
            "Epoch 44/50\n",
            "\u001b[1m7/8\u001b[0m \u001b[32m━━━━━━━━━━━━━━━━━\u001b[0m\u001b[37m━━━\u001b[0m \u001b[1m0s\u001b[0m 9ms/step - accuracy: 0.5661 - loss: 2.2372 \n",
            "Epoch 44: loss improved from 2.31526 to 2.28258, saving model to /content/drive/MyDrive/rotcChatbot/checkpoints/chatbot_model_checkpoint.keras\n",
            "\u001b[1m8/8\u001b[0m \u001b[32m━━━━━━━━━━━━━━━━━━━━\u001b[0m\u001b[37m\u001b[0m \u001b[1m0s\u001b[0m 17ms/step - accuracy: 0.5456 - loss: 2.2473\n",
            "Epoch 45/50\n",
            "\u001b[1m7/8\u001b[0m \u001b[32m━━━━━━━━━━━━━━━━━\u001b[0m\u001b[37m━━━\u001b[0m \u001b[1m0s\u001b[0m 18ms/step - accuracy: 0.5022 - loss: 2.2410\n",
            "Epoch 45: loss improved from 2.28258 to 2.22667, saving model to /content/drive/MyDrive/rotcChatbot/checkpoints/chatbot_model_checkpoint.keras\n",
            "\u001b[1m8/8\u001b[0m \u001b[32m━━━━━━━━━━━━━━━━━━━━\u001b[0m\u001b[37m\u001b[0m \u001b[1m0s\u001b[0m 29ms/step - accuracy: 0.4986 - loss: 2.2378\n",
            "Epoch 46/50\n",
            "\u001b[1m8/8\u001b[0m \u001b[32m━━━━━━━━━━━━━━━━━━━━\u001b[0m\u001b[37m\u001b[0m \u001b[1m0s\u001b[0m 16ms/step - accuracy: 0.6425 - loss: 2.1420\n",
            "Epoch 46: loss improved from 2.22667 to 2.15989, saving model to /content/drive/MyDrive/rotcChatbot/checkpoints/chatbot_model_checkpoint.keras\n",
            "\u001b[1m8/8\u001b[0m \u001b[32m━━━━━━━━━━━━━━━━━━━━\u001b[0m\u001b[37m\u001b[0m \u001b[1m0s\u001b[0m 24ms/step - accuracy: 0.6346 - loss: 2.1440\n",
            "Epoch 47/50\n",
            "\u001b[1m7/8\u001b[0m \u001b[32m━━━━━━━━━━━━━━━━━\u001b[0m\u001b[37m━━━\u001b[0m \u001b[1m0s\u001b[0m 18ms/step - accuracy: 0.5860 - loss: 2.0235\n",
            "Epoch 47: loss improved from 2.15989 to 2.10902, saving model to /content/drive/MyDrive/rotcChatbot/checkpoints/chatbot_model_checkpoint.keras\n",
            "\u001b[1m8/8\u001b[0m \u001b[32m━━━━━━━━━━━━━━━━━━━━\u001b[0m\u001b[37m\u001b[0m \u001b[1m0s\u001b[0m 27ms/step - accuracy: 0.5691 - loss: 2.0425\n",
            "Epoch 48/50\n",
            "\u001b[1m7/8\u001b[0m \u001b[32m━━━━━━━━━━━━━━━━━\u001b[0m\u001b[37m━━━\u001b[0m \u001b[1m0s\u001b[0m 20ms/step - accuracy: 0.6181 - loss: 2.0529\n",
            "Epoch 48: loss improved from 2.10902 to 2.05943, saving model to /content/drive/MyDrive/rotcChatbot/checkpoints/chatbot_model_checkpoint.keras\n",
            "\u001b[1m8/8\u001b[0m \u001b[32m━━━━━━━━━━━━━━━━━━━━\u001b[0m\u001b[37m\u001b[0m \u001b[1m0s\u001b[0m 28ms/step - accuracy: 0.6094 - loss: 2.0544\n",
            "Epoch 49/50\n",
            "\u001b[1m8/8\u001b[0m \u001b[32m━━━━━━━━━━━━━━━━━━━━\u001b[0m\u001b[37m\u001b[0m \u001b[1m0s\u001b[0m 17ms/step - accuracy: 0.5781 - loss: 1.9760\n",
            "Epoch 49: loss improved from 2.05943 to 1.99979, saving model to /content/drive/MyDrive/rotcChatbot/checkpoints/chatbot_model_checkpoint.keras\n",
            "\u001b[1m8/8\u001b[0m \u001b[32m━━━━━━━━━━━━━━━━━━━━\u001b[0m\u001b[37m\u001b[0m \u001b[1m0s\u001b[0m 25ms/step - accuracy: 0.5777 - loss: 1.9786\n",
            "Epoch 50/50\n",
            "\u001b[1m7/8\u001b[0m \u001b[32m━━━━━━━━━━━━━━━━━\u001b[0m\u001b[37m━━━\u001b[0m \u001b[1m0s\u001b[0m 18ms/step - accuracy: 0.6795 - loss: 1.9522\n",
            "Epoch 50: loss improved from 1.99979 to 1.94920, saving model to /content/drive/MyDrive/rotcChatbot/checkpoints/chatbot_model_checkpoint.keras\n",
            "\u001b[1m8/8\u001b[0m \u001b[32m━━━━━━━━━━━━━━━━━━━━\u001b[0m\u001b[37m\u001b[0m \u001b[1m0s\u001b[0m 27ms/step - accuracy: 0.6743 - loss: 1.9516\n",
            "Final model saved at /content/drive/MyDrive/rotcChatbot/lstm_chatbot_model.keras\n"
          ]
        }
      ]
    },
    {
      "cell_type": "code",
      "source": [
        "import numpy as np\n",
        "from tensorflow.keras.preprocessing.sequence import pad_sequences\n",
        "\n",
        "# Function to predict responses\n",
        "def get_response(text):\n",
        "    # Convert user input to sequences\n",
        "    seq = tokenizer.texts_to_sequences([text])\n",
        "    # Pad the sequence to match the training input shape\n",
        "    padded = pad_sequences(seq, maxlen=X_pad.shape[1], padding='post')\n",
        "    # Predict the probabilities for each response\n",
        "    pred = model.predict(padded, verbose=0)\n",
        "    # Get the index of the highest probability\n",
        "    response_idx = np.argmax(pred)\n",
        "    # Return the corresponding response\n",
        "    return combined_df['Response'][response_idx]\n",
        "\n",
        "# Chatbot loop\n",
        "print(\"Hello! I'm your ROTC Chatbot. Ask me anything about military topics. Type 'exit' to end the conversation.\")\n",
        "while True:\n",
        "    user_input = input(\"You: \")\n",
        "    if user_input.lower() == 'exit':\n",
        "        print(\"Goodbye! Stay sharp!\")\n",
        "        break\n",
        "    try:\n",
        "        # Get and print the chatbot's response\n",
        "        response = get_response(user_input)\n",
        "        print(\"Chatbot:\", response)\n",
        "    except Exception as e:\n",
        "        # Handle any errors (e.g., unrecognized input)\n",
        "        print(\"Chatbot: Sorry, I didn't understand that. Please try asking something else.\")\n"
      ],
      "metadata": {
        "id": "j852a-u4YMfW",
        "outputId": "8743c110-70c1-446c-c15e-997f3c60d0bb",
        "colab": {
          "base_uri": "https://localhost:8080/"
        }
      },
      "execution_count": 33,
      "outputs": [
        {
          "output_type": "stream",
          "name": "stdout",
          "text": [
            "Hello! I'm your ROTC Chatbot. Ask me anything about military topics. Type 'exit' to end the conversation.\n",
            "You: Military Courtesy\n",
            "Chatbot: Army leaders help develop their teams by encouraging initiative, teamwork, and personal responsibility, while caring for team members.\n",
            "You: What is the purpose of military courtesy?\n",
            "Chatbot: Following cadet etiquette helps develop a cadet’s professionalism and respect for authority.\n",
            "You: What is the purpose of military courtesy?\n",
            "Chatbot: Following cadet etiquette helps develop a cadet’s professionalism and respect for authority.\n",
            "You: Salute\n",
            "Chatbot: Army leaders help develop their teams by encouraging initiative, teamwork, and personal responsibility, while caring for team members.\n",
            "You: Ranks\n",
            "Chatbot: Army leaders help develop their teams by encouraging initiative, teamwork, and personal responsibility, while caring for team members.\n",
            "You: l\n",
            "Chatbot: Army leaders help develop their teams by encouraging initiative, teamwork, and personal responsibility, while caring for team members.\n",
            "You: men\n",
            "Chatbot: Army leaders help develop their teams by encouraging initiative, teamwork, and personal responsibility, while caring for team members.\n",
            "You: exit\n",
            "Goodbye! Stay sharp!\n"
          ]
        }
      ]
    }
  ]
}